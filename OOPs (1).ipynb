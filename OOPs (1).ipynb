{
  "nbformat": 4,
  "nbformat_minor": 0,
  "metadata": {
    "colab": {
      "provenance": []
    },
    "kernelspec": {
      "name": "python3",
      "display_name": "Python 3"
    },
    "language_info": {
      "name": "python"
    }
  },
  "cells": [
    {
      "cell_type": "markdown",
      "source": [
        "# Theory Questions"
      ],
      "metadata": {
        "id": "sO_tryKS07Je"
      }
    },
    {
      "cell_type": "markdown",
      "source": [
        "1. 1. What is Object-Oriented Programming (OOP)\n",
        "  - Object-Oriented Programming (OOP) is a programming paradigm based on the concept of \"objects\", which are instances of classes. It organizes code by bundling data (attributes) and functions (methods) that operate on the data into single units, called objects.\n",
        "  \n",
        "  Example-\n",
        "  \n",
        "  class Car:\n",
        "\n",
        "     def __init__(self, brand, model):\n",
        "\n",
        "       self.brand = brand\n",
        "\n",
        "       self.model = model\n",
        "\n",
        "     def start(self):\n",
        "\n",
        "        print(f\"{self.brand} {self.model} is starting.\")\n",
        "\n",
        "my_car = Car(\"Toyota\", \"Corolla\")\n",
        "\n",
        "my_car.start()"
      ],
      "metadata": {
        "id": "ilNVpHcv1i5-"
      }
    },
    {
      "cell_type": "markdown",
      "source": [
        "2. What is a class in OOP\n",
        " - In Object-Oriented Programming (OOP), a class is a blueprint or template for creating objects. It defines the attributes (data) and methods (functions) that the objects created from the class will have.\n",
        "\n",
        " Example-\n",
        "\n",
        " class Dog:\n",
        "\n",
        "    def __init__(self, name, breed):\n",
        "        self.name = name        # attribute\n",
        "        self.breed = breed      # attribute\n",
        "\n",
        "    def bark(self):             # method\n",
        "        print(f\"{self.name} says woof!\")\n",
        "\n",
        " Creating an object (instance) of the class\n",
        "\n",
        "my_dog = Dog(\"Buddy\", \"Golden Retriever\")\n",
        "\n",
        "my_dog.bark()"
      ],
      "metadata": {
        "id": "_9rw7AP_1nJZ"
      }
    },
    {
      "cell_type": "markdown",
      "source": [
        "3. What is an object in OOP\n",
        " - In Object-Oriented Programming (OOP), an object is a real-world instance of a class. It represents a specific entity that has both data (attributes) and behavior (methods) defined by its class.\n",
        "\n",
        "Example-\n",
        "\n",
        "class Car:\n",
        "\n",
        "    def __init__(self, brand, color):\n",
        "        self.brand = brand\n",
        "        self.color = color\n",
        "\n",
        "    def drive(self):\n",
        "        print(f\"The {self.color} {self.brand} is driving.\")\n",
        "\n",
        " Creating two objects from the Car class\n",
        "\n",
        "car1 = Car(\"Toyota\", \"Red\")\n",
        "\n",
        "car2 = Car(\"Honda\", \"Blue\")\n",
        "\n",
        "car1.drive()\n",
        "\n",
        "car2.drive()\n",
        "\n",
        "   Output-\n",
        "\n",
        "   The Red Toyota is driving.\n",
        "   \n",
        "   The Blue Honda is driving."
      ],
      "metadata": {
        "id": "M6q1XsN-3Czr"
      }
    },
    {
      "cell_type": "markdown",
      "source": [
        "4. What is the difference between abstraction and encapsulation\n",
        " - Abstraction is the process of hiding complex internal details and showing only the essential features to the user, making the interface simple and easier to use and understand.\n",
        "\n",
        " - Encapsulation is the practice of bundling data and related methods within a class and restricting direct access to some components, ensuring data security and reducing code complexity.\n",
        "\n",
        " Example-\n",
        "\n",
        " from abc import ABC, abstractmethod\n",
        "\n",
        "Abstract Class - Abstraction\n",
        "\n",
        "class Vehicle(ABC):\n",
        "\n",
        "    @abstractmethod\n",
        "    def start_engine(self):\n",
        "        pass\n",
        "\n",
        "Concrete Class - Encapsulation + Abstraction\n",
        "\n",
        "class Car(Vehicle):\n",
        "\n",
        "    def __init__(self, make, model):\n",
        "        self.__make = make            # private attribute (encapsulation)\n",
        "        self.__model = model          # private attribute (encapsulation)\n",
        "        self.__engine_started = False # private state (encapsulation)\n",
        "\n",
        "    def start_engine(self):           # abstract method implemented (abstraction)\n",
        "        self.__engine_started = True\n",
        "        print(f\"{self.__make} {self.__model} engine started.\")\n",
        "\n",
        "    def get_info(self):               # abstraction of internal details\n",
        "        return f\"Car: {self.__make} {self.__model}\"\n",
        "\n",
        "Usage\n",
        "\n",
        "my_car = Car(\"Toyota\", \"Camry\")\n",
        "\n",
        "print(my_car.get_info())   # Abstraction: only essential info exposed\n",
        "\n",
        "my_car.start_engine()      # Internal behavior is abstracted\n",
        "\n",
        " Trying to access private attributes (will raise error if forced)\n",
        "\n",
        " print(my_car.__make)     # AttributeError: 'Car' object has no attribute '__make'"
      ],
      "metadata": {
        "id": "Uu7FgRtG3wKt"
      }
    },
    {
      "cell_type": "markdown",
      "source": [
        "5. What are dunder methods in Python\n",
        " - Dunder methods in Python (short for \"double underscore\" methods) are special, built-in methods that start and end with double underscores, like __init__, __str__, and __len__. They are also called magic methods and are used to define the behavior of objects for operators and built-in functions.\n",
        "\n",
        "Exampe-\n",
        "\n",
        "class Book:\n",
        "\n",
        "    def __init__(self, title):\n",
        "        self.title = title\n",
        "\n",
        "    def __str__(self):\n",
        "        return f\"Book: {self.title}\"\n",
        "\n",
        "book = Book(\"Python Basics\")\n",
        "\n",
        "print(book)  # Calls __str__()"
      ],
      "metadata": {
        "id": "vttn61jx4TqX"
      }
    },
    {
      "cell_type": "markdown",
      "source": [
        "6. Explain the concept of inheritance in OOP\n",
        " - Inheritance in Object-Oriented Programming (OOP) is the concept where a class (called a child or subclass) can inherit properties and behaviors (attributes and methods) from another class (called a parent or superclass).\n",
        "\n",
        "Example-\n",
        "\n",
        "class Animal:\n",
        "\n",
        "    def speak(self):\n",
        "        print(\"The animal makes a sound.\")\n",
        "\n",
        "class Dog(Animal):  # Dog inherits from Animal\n",
        "\n",
        "    def speak(self):\n",
        "        print(\"The dog barks.\")\n",
        "\n",
        "a = Animal()\n",
        "\n",
        "d = Dog()\n",
        "\n",
        "a.speak()  # Output: The animal makes a sound.\n",
        "\n",
        "d.speak()  # Output: The dog barks."
      ],
      "metadata": {
        "id": "2k3KeyG15WNz"
      }
    },
    {
      "cell_type": "markdown",
      "source": [
        "7.  What is polymorphism in OOP\n",
        " - Polymorphism in Object-Oriented Programming (OOP) means \"many forms.\" It allows different classes to define methods with the same name, but with different behaviors depending on the class that is using it.\n",
        "\n",
        " Example-\n",
        "\n",
        " class Bird:\n",
        "\n",
        "   def make_sound(self):\n",
        "        print(\"Chirp!\")\n",
        "\n",
        "class Dog:\n",
        "\n",
        "    def make_sound(self):\n",
        "        print(\"Bark!\")\n",
        "\n",
        "def animal_sound(animal):\n",
        "\n",
        "    animal.make_sound()\n",
        "\n",
        "animal_sound(Bird())  # Output: Chirp!\n",
        "\n",
        "animal_sound(Dog())   # Output: Bark!"
      ],
      "metadata": {
        "id": "1NosJpv96jwr"
      }
    },
    {
      "cell_type": "markdown",
      "source": [
        "8. How is encapsulation achieved in Python\n",
        " - Encapsulation in Python is achieved using:\n",
        "\n",
        "   1. Classes and Objects\n",
        "\n",
        "      Encapsulation is primarily implemented through classes, which bundle data (attributes) and methods (functions) that operate on the data.\n",
        "\n",
        "Example-\n",
        "  \n",
        "    class Person:\n",
        "\n",
        "    def __init__(self, name, age):\n",
        "\n",
        "        self.name = name    # public attribute\n",
        "        self._age = age     # protected attribute\n",
        "\n",
        "   2. Access Modifiers\n",
        "\n",
        "      access modifiers in three words, each in a sentence form:\n",
        "\n",
        "      Public — Accessible from everywhere.\n",
        "\n",
        "      Protected — Accessible within subclass.\n",
        "\n",
        "      Private — Not directly accessible.\n",
        "\n",
        "Example-\n",
        "\n",
        "class BankAccount:\n",
        "\n",
        "    def __init__(self, balance):\n",
        "        self.__balance = balance  # private variable\n",
        "\n",
        "    def deposit(self, amount):\n",
        "        if amount > 0:\n",
        "            self.__balance += amount\n",
        "\n",
        "    def get_balance(self):\n",
        "        return self.__balance\n",
        "\n",
        "   3. Getter and Setter Methods\n",
        "\n",
        "      To access or modify private attributes safely:\n",
        "\n",
        "Example-\n",
        "\n",
        "class Student:\n",
        "\n",
        "    def __init__(self, marks):\n",
        "        self.__marks = marks\n",
        "\n",
        "    def get_marks(self):\n",
        "        return self.__marks\n",
        "\n",
        "    def set_marks(self, value):\n",
        "        if 0 <= value <= 100:\n",
        "            self.__marks = value\n"
      ],
      "metadata": {
        "id": "FKAhzLfBrqG2"
      }
    },
    {
      "cell_type": "markdown",
      "source": [
        "9. What is a constructor in Python\n",
        " - A constructor in Python is a special method used to initialize a new object when a class is instantiated.\n",
        "\n",
        "Example-\n",
        "\n",
        "class Car:\n",
        "\n",
        "    def __init__(self, brand, model):\n",
        "        self.brand = brand\n",
        "        self.model = model\n",
        "\n",
        "Creating an object\n",
        "\n",
        "my_car = Car(\"Toyota\", \"Camry\")\n",
        "\n",
        "print(my_car.brand)\n",
        "\n",
        " Output: Toyota"
      ],
      "metadata": {
        "id": "itN4JBAx1STQ"
      }
    },
    {
      "cell_type": "markdown",
      "source": [
        "10. What are class and static methods in Python\n",
        "\n",
        "  1) Class Method\n",
        "\n",
        "    - Defined using @classmethod decorator.\n",
        "\n",
        "    - Takes cls as the first parameter (refers to the class).\n",
        "\n",
        "    - Can access and modify class-level attributes.\n",
        "\n",
        "\n",
        "class Example:\n",
        "\n",
        "    count = 0\n",
        "\n",
        "    @classmethod\n",
        "    def increment_count(cls):\n",
        "        cls.count += 1\n",
        "\n",
        "  2)Static Method\n",
        "\n",
        "  - Defined using @staticmethod decorator.\n",
        "\n",
        "  - Doesn’t take self or cls as the first parameter.\n",
        "\n",
        "  - Cannot access class or instance data directly.\n",
        "\n",
        "  - Used for utility functions related to the class.\n",
        "\n",
        "class MathUtils:\n",
        "\n",
        "    @staticmethod\n",
        "    def add(x, y):\n",
        "        return x + y\n",
        "\n",
        "\n"
      ],
      "metadata": {
        "id": "gvJ6TPjP2HAd"
      }
    },
    {
      "cell_type": "markdown",
      "source": [
        "11. What is method overloading in Python\n",
        "  - Method overloading means defining multiple methods with the same name but different parameters (like in Java or C++). However, Python does not support true method overloading.\n",
        "\n",
        "    1) Default Arguments\n",
        "\n",
        "     You can define a single method with default values to simulate overloading.\n",
        "\n",
        "    class Greet:\n",
        "\n",
        "    def hello(self, name=None):\n",
        "        if name:\n",
        "            print(f\"Hello, {name}!\")\n",
        "        else:\n",
        "            print(\"Hello!\")\n",
        "\n",
        "     g = Greet()\n",
        "\n",
        "     g.hello()          # Output: Hello!\n",
        "\n",
        "     g.hello(\"Alice\")   # Output: Hello, Alice!\n",
        "\n",
        "     2)Variable-Length Arguments\n",
        "\n",
        "      Use *args and **args to accept multiple arguments.\n",
        "\n",
        "      class Calculator:\n",
        "\n",
        "    def add(self, *args):\n",
        "\n",
        "      return sum(args)\n",
        "\n",
        "     c = Calculator()\n",
        "\n",
        "     print(c.add(2, 3))           # Output: 5\n",
        "\n",
        "     print(c.add(1, 2, 3, 4))     # Output: 10\n"
      ],
      "metadata": {
        "id": "8rwctmPA4aSh"
      }
    },
    {
      "cell_type": "markdown",
      "source": [
        "12.  What is method overriding in OOP\n",
        "\n",
        " - Method overriding occurs when a child class provides a specific implementation of a method that is already defined in its parent class.\n",
        "\n",
        " - It allows a subclass to modify or extend the behavior of a method inherited from a superclass.\n",
        "\n",
        " Example-\n",
        "\n",
        " class Animal:\n",
        "\n",
        "    def speak(self):\n",
        "\n",
        "        print(\"Animal speaks\")\n",
        "\n",
        " class Dog(Animal):\n",
        "\n",
        "    def speak(self):\n",
        "\n",
        "        print(\"Dog barks\")\n",
        "\n",
        " a = Animal()\n",
        "\n",
        " a.speak()   # Output: Animal speaks\n",
        "\n",
        " d = Dog()\n",
        "\n",
        " d.speak()   # Output: Dog barks"
      ],
      "metadata": {
        "id": "FXqBB7np57Gh"
      }
    },
    {
      "cell_type": "markdown",
      "source": [
        "13. What is a property decorator in Python\n",
        " - The @property decorator in Python is used to define getter methods that can be accessed like attributes, enabling encapsulation and controlled access to private variables.\n",
        "\n",
        " Example-\n",
        "\n",
        " class Circle:\n",
        "\n",
        "    def __init__(self, radius):\n",
        "\n",
        "      self._radius = radius\n",
        "\n",
        "    @property\n",
        "\n",
        "    def radius(self):           # Getter\n",
        "\n",
        "     return self._radius\n",
        "\n",
        "    @radius.setter\n",
        "    def radius(self, value):    # Setter\n",
        "        if value > 0:\n",
        "            self._radius = value\n",
        "        else:\n",
        "            raise ValueError(\"Radius must be positive\")\n",
        "\n",
        "c = Circle(5)\n",
        "\n",
        "print(c.radius)     # Access like an attribute: Output 5\n",
        "\n",
        "c.radius = 10       # Calls setter method\n",
        "\n",
        "print(c.radius)     # Output 10"
      ],
      "metadata": {
        "id": "WnGXTKK68LAb"
      }
    },
    {
      "cell_type": "markdown",
      "source": [
        "14. Why is polymorphism important in OOP\n",
        " - Polymorphism is important in Object-Oriented Programming (OOP) because it enables flexibility, reusability, and extensibility in code design.\n",
        "\n",
        "Example-\n",
        "\n",
        "class Animal:\n",
        "\n",
        "    def speak(self):\n",
        "        print(\"Animal speaks\")\n",
        "\n",
        "class Dog(Animal):\n",
        "\n",
        "    def speak(self):\n",
        "        print(\"Dog barks\")\n",
        "\n",
        "class Cat(Animal):\n",
        "\n",
        "    def speak(self):\n",
        "        print(\"Cat meows\")\n",
        "\n",
        "def make_sound(animal):\n",
        "\n",
        "    animal.speak()\n",
        "\n",
        "make_sound(Dog())   # Output: Dog barks\n",
        "\n",
        "make_sound(Cat())   # Output: Cat meows"
      ],
      "metadata": {
        "id": "2lwxGUHw_KjV"
      }
    },
    {
      "cell_type": "markdown",
      "source": [
        "15. What is an abstract class in Python\n",
        "  - An abstract class in Python is a class that cannot be instantiated directly and is meant to be inherited by other classes. It defines a common interface for all its subclasses, often including abstract methods that must be implemented in child classes.\n",
        "\n",
        "Example-\n",
        "\n",
        "from abc import ABC, abstractmethod\n",
        "\n",
        "class Animal(ABC):\n",
        "\n",
        "    @abstractmethod\n",
        "    def make_sound(self):\n",
        "        pass\n",
        "\n",
        "class Dog(Animal):\n",
        "\n",
        "    def make_sound(self):\n",
        "        print(\"Bark\")\n",
        "\n",
        "class Cat(Animal):\n",
        "\n",
        "    def make_sound(self):\n",
        "        print(\"Meow\")\n",
        "\n",
        " animal = Animal()  # ❌ Error: Can't instantiate abstract class\n",
        "\n",
        "dog = Dog()\n",
        "\n",
        "dog.make_sound()     # Output: Bark"
      ],
      "metadata": {
        "id": "2F7kca1M_00m"
      }
    },
    {
      "cell_type": "markdown",
      "source": [
        "16.  What are the advantages of OOP\n",
        " - Advantages of Object-Oriented Programming (OOP):\n",
        "\n",
        "Modularity\n",
        "\n",
        "   - Code is organized into classes and objects, making it easier to manage and debug.\n",
        "\n",
        "Reusability\n",
        "\n",
        "   - Classes can be reused across programs via inheritance, reducing redundancy.\n",
        "\n",
        "Encapsulation\n",
        "\n",
        "   - Bundles data and behavior together, restricting direct access to internal data and improving security.\n",
        "\n",
        "Polymorphism\n",
        "\n",
        "   - Allows the same method to behave differently on different objects, increasing flexibility and scalability.\n",
        "\n",
        "Inheritance\n",
        "\n",
        "   - Promotes code reuse by allowing new classes to adopt features from existing ones.\n",
        "\n",
        "Maintainability\n",
        "\n",
        "   - Changes in one part of the code can be made with minimal impact on the rest of the system.\n",
        "\n",
        "Extensibility\n",
        "\n",
        "   - Easy to extend existing code with new functionality without modifying existing code.\n",
        "\n",
        "Data Abstraction\n",
        "\n",
        "   - Hides complex implementation details and shows only the necessary features, improving usability.\n",
        "\n"
      ],
      "metadata": {
        "id": "UaZO89YEBW2g"
      }
    },
    {
      "cell_type": "markdown",
      "source": [
        "17. What is the difference between a class variable and an instance variable\n",
        "  - Class Variable\n",
        "\n",
        "     A class variable is shared by all instances of a class and defined directly within the class. It is used for values common to all objects.\n",
        "\n",
        "     Example-\n",
        "\n",
        "     class Car:\n",
        "\n",
        "     wheels = 4  # class variable\n",
        "\n",
        "  - Instance Variable\n",
        "\n",
        "     An instance variable is unique to each object and defined inside the constructor using self. It stores data specific to each object instance.\n",
        "\n",
        "     Example-\n",
        "\n",
        "     class Car:\n",
        "\n",
        "     def __init__(self, color):\n",
        "\n",
        "        self.color = color  # instance variable"
      ],
      "metadata": {
        "id": "v-IaGuepCzJ7"
      }
    },
    {
      "cell_type": "markdown",
      "source": [
        "18. What is multiple inheritance in Python\n",
        " - Multiple inheritance in Python means a class can inherit from more than one parent class, combining attributes and methods from all its base classes.\n",
        "\n",
        "Example-\n",
        "\n",
        "class Father:\n",
        "\n",
        "    def skills(self):\n",
        "        print(\"Gardening and Cooking\")\n",
        "\n",
        "class Mother:\n",
        "\n",
        "    def skills(self):\n",
        "        print(\"Art and Craft\")\n",
        "\n",
        "class Child(Father, Mother):\n",
        "\n",
        "    pass\n",
        "\n",
        "c = Child()\n",
        "\n",
        "c.skills()   # Output: Gardening and Cooking (Father's method is called first)\n"
      ],
      "metadata": {
        "id": "fIpq_1YzEfTJ"
      }
    },
    {
      "cell_type": "markdown",
      "source": [
        "19. Explain the purpose of ‘’__str__’ and ‘__repr__’ ‘ methods in Python\n",
        "  - Purpose of __str__ and __repr__ Methods in Python\n",
        "\n",
        "     Python provides __str__() and __repr__() as special (dunder) methods to define how objects are represented as strings.\n",
        "\n",
        "      - __str__() – User-Friendly String Representation\n",
        "\n",
        "          1. Used by print() and str().\n",
        "\n",
        "          2. Should return a readable, nicely formatted string for end users.\n",
        "\n",
        "      Example-\n",
        "\n",
        "      class Book:\n",
        "\n",
        "    def __init__(self, title):\n",
        "        self.title = title\n",
        "\n",
        "    def __str__(self):\n",
        "        return f\"Book Title: {self.title}\"\n",
        "\n",
        "b = Book(\"Python 101\")\n",
        "\n",
        "print(b)  # Output: Book Title: Python 101\n",
        "  - __repr__() – Developer-Friendly Representation\n",
        "\n",
        "   1. Used by repr() and in the Python shell.\n",
        "\n",
        "   2. Should return a string that can recreate the object (ideally).\n",
        "\n",
        "   3. Helps with debugging.\n",
        "\n",
        "   Example-\n",
        "\n",
        "   class Book:\n",
        "\n",
        "    def __init__(self, title):\n",
        "        self.title = title\n",
        "\n",
        "    def __repr__(self):\n",
        "        return f\"Book('{self.title}')\"\n",
        "\n",
        "b = Book(\"Python 101\")\n",
        "\n",
        "print(repr(b))  # Output: Book('Python 101')"
      ],
      "metadata": {
        "id": "jYEGIgQFFnd4"
      }
    },
    {
      "cell_type": "markdown",
      "source": [
        "20. What is the significance of the ‘super()’ function in Python\n",
        "  - The super() function in Python is used to call methods from a parent or superclass inside a child class, especially in the context of inheritance.\n",
        "\n",
        "  Example-\n",
        "\n",
        "  class Animal:\n",
        "\n",
        "    def __init__(self, name):\n",
        "        self.name = name\n",
        "\n",
        "class Dog(Animal):\n",
        "\n",
        "    def __init__(self, name, breed):\n",
        "        super().__init__(name)     # Calls Animal's __init__()\n",
        "        self.breed = breed\n",
        "\n",
        "d = Dog(\"Buddy\", \"Labrador\")\n",
        "\n",
        "print(d.name, d.breed)  # Output: Buddy Labrador"
      ],
      "metadata": {
        "id": "JuNcrLmxG_IN"
      }
    },
    {
      "cell_type": "markdown",
      "source": [
        "21. What is the significance of the __del__ method in Python\n",
        "  - The __del__() method in Python is a destructor — it's called automatically when an object is about to be destroyed (i.e., when it is garbage collected\n",
        "\n",
        "  Example-\n",
        "\n",
        "  class FileHandler:\n",
        "\n",
        "    def __init__(self, filename):\n",
        "        self.file = open(filename, 'w')\n",
        "\n",
        "    def __del__(self):\n",
        "        self.file.close()\n",
        "        print(\"File closed and object deleted\")\n",
        "\n",
        "f = FileHandler(\"example.txt\")\n",
        "\n",
        "del f  # Output: File closed and object deleted"
      ],
      "metadata": {
        "id": "BCSyEDAhUiW7"
      }
    },
    {
      "cell_type": "markdown",
      "source": [
        "22.  What is the difference between @staticmethod and @classmethod in Python\n",
        "  - A @staticmethod is a method that does not take self or cls and cannot access class or instance variables. It is used for utility functions within the class context.\n",
        "\n",
        "  Example-\n",
        "\n",
        "  class Math:\n",
        "\n",
        "    @staticmethod\n",
        "\n",
        "    def square(x):\n",
        "\n",
        "        return x * x\n",
        "\n",
        "    - A @classmethod takes cls as the first argument and can access or modify class-level data. It is often used to create alternative constructors or manage class state.\n",
        "\n",
        "  Example-\n",
        "\n",
        "  class Person:\n",
        "\n",
        "    count = 0\n",
        "\n",
        "    @classmethod\n",
        "\n",
        "    def increment_count(cls):\n",
        "    \n",
        "        cls.count += 1"
      ],
      "metadata": {
        "id": "POaMiFv3VBzi"
      }
    },
    {
      "cell_type": "markdown",
      "source": [
        "23.  How does polymorphism work in Python with inheritance\n",
        "  - In Python, polymorphism with inheritance allows different subclasses to define their own versions of methods inherited from a common superclass, and lets you call those methods through a common interface.\n",
        "\n",
        "  Example-\n",
        "\n",
        "  class Animal:\n",
        "\n",
        "    def speak(self):\n",
        "        print(\"Animal speaks\")\n",
        "\n",
        "class Dog(Animal):\n",
        "\n",
        "    def speak(self):\n",
        "        print(\"Dog barks\")\n",
        "\n",
        "class Cat(Animal):\n",
        "\n",
        "    def speak(self):\n",
        "        print(\"Cat meows\")\n",
        "\n",
        " Polymorphism in action\n",
        "\n",
        "def make_sound(animal):\n",
        "\n",
        "    animal.speak()\n",
        "\n",
        "make_sound(Dog())  # Output: Dog barks\n",
        "\n",
        "make_sound(Cat())  # Output: Cat meows"
      ],
      "metadata": {
        "id": "eE0dUP5LZB5L"
      }
    },
    {
      "cell_type": "markdown",
      "source": [
        "24.  What is method chaining in Python OOP\n",
        "  - Method chaining in Python refers to the practice of calling multiple methods on the same object in a single line, where each method returns the object itself (typically using return self).\n",
        "\n",
        " example-\n",
        "\n",
        " class Message:\n",
        "\n",
        "          def __init__(self):\n",
        "            self.text = \"\"\n",
        "        \n",
        "    def greet(self):\n",
        "          self.text += \"Hello\"\n",
        "            return self\n",
        "\n",
        "    def name(self, n):\n",
        "          self.text += f\", {n}\"\n",
        "            return self\n",
        "\n",
        "    def display(self):\n",
        "          print(self.text)\n",
        "            return self\n",
        "\n",
        " Method chaining in action\n",
        "\n",
        "msg = Message()\n",
        "\n",
        "msg.greet().name(\"Khushbu\").display()\n",
        "\n",
        "Output: Hello, Khushbu"
      ],
      "metadata": {
        "id": "XW9qO4KSZgf4"
      }
    },
    {
      "cell_type": "markdown",
      "source": [
        "25. What is the purpose of the __call__ method in Python\n",
        " - The __call__() method allows an instance of a class to be called like a regular function. This adds function-like behavior to objects.\n",
        "\n",
        "  Example-\n",
        "\n",
        "  class Greeter:\n",
        "\n",
        "        def __init__(self, greeting):\n",
        "          self.greeting = greeting\n",
        "\n",
        "        def __call__(self, name):\n",
        "          return f\"{self.greeting}, {name}!\"\n",
        "\n",
        "greet = Greeter(\"Hello\")\n",
        "\n",
        "print(greet(\"Khushbu\"))  # Output: Hello, Khushbu!"
      ],
      "metadata": {
        "id": "Jtz3t62JaORp"
      }
    },
    {
      "cell_type": "markdown",
      "source": [
        "# Practical Question"
      ],
      "metadata": {
        "id": "UUF_taFXasV4"
      }
    },
    {
      "cell_type": "markdown",
      "source": [
        "1. Create a parent class Animal with a method speak() that prints a generic message. Create a child class Dog\n",
        "that overrides the speak() method to print \"Bark!\"."
      ],
      "metadata": {
        "id": "VmDmWr74bAo4"
      }
    },
    {
      "cell_type": "code",
      "execution_count": null,
      "metadata": {
        "id": "VYmaDKgv06Ol"
      },
      "outputs": [],
      "source": [
        "# Parent class\n",
        "class Animal:\n",
        "    def speak(self):\n",
        "        print(\"The animal makes a sound.\")\n",
        "\n",
        "# Child class\n",
        "class Dog(Animal):\n",
        "    def speak(self):\n",
        "        print(\"Bark!\")\n",
        "\n",
        "# Example usage\n",
        "a = Animal()\n",
        "a.speak()  # Output: The animal makes a sound.\n",
        "\n",
        "d = Dog()\n",
        "d.speak()  # Output: Bark!"
      ]
    },
    {
      "cell_type": "markdown",
      "source": [
        "2. Write a program to create an abstract class Shape with a method area(). Derive classes Circle and Rectangle\n",
        "from it and implement the area() method in both.\n",
        "\n",
        "\n"
      ],
      "metadata": {
        "id": "V1bUaAqVbVXU"
      }
    },
    {
      "cell_type": "code",
      "source": [
        "from abc import ABC, abstractmethod\n",
        "import math\n",
        "\n",
        "# Abstract base class\n",
        "class Shape(ABC):\n",
        "    @abstractmethod\n",
        "    def area(self):\n",
        "        pass\n",
        "\n",
        "# Derived class: Circle\n",
        "class Circle(Shape):\n",
        "    def __init__(self, radius):\n",
        "        self.radius = radius\n",
        "\n",
        "    def area(self):\n",
        "        return math.pi * self.radius ** 2\n",
        "\n",
        "# Derived class: Rectangle\n",
        "class Rectangle(Shape):\n",
        "    def __init__(self, length, width):\n",
        "        self.length = length\n",
        "        self.width = width\n",
        "\n",
        "    def area(self):\n",
        "        return self.length * self.width\n",
        "\n",
        "# Example usage\n",
        "c = Circle(5)\n",
        "print(f\"Area of Circle: {c.area():.2f}\")     # Output: Area of Circle: 78.54\n",
        "\n",
        "r = Rectangle(4, 6)\n",
        "print(f\"Area of Rectangle: {r.area()}\")     # Output: Area of Rectangle: 24"
      ],
      "metadata": {
        "id": "O7rhOEHkbbAr"
      },
      "execution_count": null,
      "outputs": []
    },
    {
      "cell_type": "markdown",
      "source": [
        "3.  Implement a multi-level inheritance scenario where a class Vehicle has an attribute type. Derive a class Car\n",
        "and further derive a class ElectricCar that adds a battery attribute."
      ],
      "metadata": {
        "id": "2tJX3zQRbnSM"
      }
    },
    {
      "cell_type": "code",
      "source": [
        "# Base class\n",
        "class Vehicle:\n",
        "    def __init__(self, vehicle_type):\n",
        "        self.type = vehicle_type\n",
        "\n",
        "    def show_type(self):\n",
        "        print(f\"Vehicle type: {self.type}\")\n",
        "\n",
        "# Derived class\n",
        "class Car(Vehicle):\n",
        "    def __init__(self, vehicle_type, brand):\n",
        "        super().__init__(vehicle_type)\n",
        "        self.brand = brand\n",
        "\n",
        "    def show_brand(self):\n",
        "        print(f\"Car brand: {self.brand}\")\n",
        "\n",
        "# Further derived class\n",
        "class ElectricCar(Car):\n",
        "    def __init__(self, vehicle_type, brand, battery_capacity):\n",
        "        super().__init__(vehicle_type, brand)\n",
        "        self.battery = battery_capacity\n",
        "\n",
        "    def show_battery(self):\n",
        "        print(f\"Battery capacity: {self.battery} kWh\")\n",
        "\n",
        "# Example usage\n",
        "e_car = ElectricCar(\"Four Wheeler\", \"Tesla\", 75)\n",
        "\n",
        "e_car.show_type()      # Output: Vehicle type: Four Wheeler\n",
        "e_car.show_brand()     # Output: Car brand: Tesla\n",
        "e_car.show_battery()   # Output: Battery capacity: 75 kWh\n"
      ],
      "metadata": {
        "id": "siZseh2pbrsQ"
      },
      "execution_count": null,
      "outputs": []
    },
    {
      "cell_type": "markdown",
      "source": [
        "4.  Demonstrate polymorphism by creating a base class Bird with a method fly(). Create two derived classes\n",
        "Sparrow and Penguin that override the fly() method.\n",
        "\n",
        "\n"
      ],
      "metadata": {
        "id": "C4alVFJBbsn-"
      }
    },
    {
      "cell_type": "code",
      "source": [
        "# Base class\n",
        "class Bird:\n",
        "    def fly(self):\n",
        "        print(\"Bird is flying.\")\n",
        "\n",
        "# Derived class: Sparrow\n",
        "class Sparrow(Bird):\n",
        "    def fly(self):\n",
        "        print(\"Sparrow flies high in the sky.\")\n",
        "\n",
        "# Derived class: Penguin\n",
        "class Penguin(Bird):\n",
        "    def fly(self):\n",
        "        print(\"Penguins cannot fly, they swim.\")\n",
        "\n",
        "# Polymorphism in action\n",
        "def make_bird_fly(bird):\n",
        "    bird.fly()\n",
        "\n",
        "# Create objects\n",
        "sparrow = Sparrow()\n",
        "penguin = Penguin()\n",
        "\n",
        "# Use polymorphic function\n",
        "make_bird_fly(sparrow)   # Output: Sparrow flies high in the sky.\n",
        "make_bird_fly(penguin)   # Output: Penguins cannot fly, they swim."
      ],
      "metadata": {
        "id": "fV35R_YjbwSs"
      },
      "execution_count": null,
      "outputs": []
    },
    {
      "cell_type": "markdown",
      "source": [
        "5. Write a program to demonstrate encapsulation by creating a class BankAccount with private attributes\n",
        "balance and methods to deposit, withdraw, and check balance."
      ],
      "metadata": {
        "id": "MXh341ZXbw9U"
      }
    },
    {
      "cell_type": "code",
      "source": [
        "class BankAccount:\n",
        "    def __init__(self, initial_balance):\n",
        "        self.__balance = initial_balance  # private attribute\n",
        "\n",
        "    def deposit(self, amount):\n",
        "        if amount > 0:\n",
        "            self.__balance += amount\n",
        "            print(f\"Deposited ₹{amount}\")\n",
        "        else:\n",
        "            print(\"Invalid deposit amount\")\n",
        "\n",
        "    def withdraw(self, amount):\n",
        "        if 0 < amount <= self.__balance:\n",
        "            self.__balance -= amount\n",
        "            print(f\"Withdrew ₹{amount}\")\n",
        "        else:\n",
        "            print(\"Insufficient balance or invalid amount\")\n",
        "\n",
        "    def check_balance(self):\n",
        "        print(f\"Current balance: ₹{self.__balance}\")\n",
        "\n",
        "# Example usage\n",
        "account = BankAccount(1000)\n",
        "\n",
        "account.deposit(500)       # Output: Deposited ₹500\n",
        "account.withdraw(300)      # Output: Withdrew ₹300\n",
        "account.check_balance()    # Output: Current balance: ₹1200\n",
        "\n",
        "# Trying to access private attribute directly (not recommended)\n",
        "# print(account.__balance)  # AttributeError"
      ],
      "metadata": {
        "id": "2Yxk0fpub0-O"
      },
      "execution_count": null,
      "outputs": []
    },
    {
      "cell_type": "markdown",
      "source": [
        "6. Demonstrate runtime polymorphism using a method play() in a base class Instrument. Derive classes Guitar\n",
        "and Piano that implement their own version of play()."
      ],
      "metadata": {
        "id": "M9bPHvNycX2w"
      }
    },
    {
      "cell_type": "code",
      "source": [
        "# Base class\n",
        "class Instrument:\n",
        "    def play(self):\n",
        "        print(\"Instrument is being played.\")\n",
        "\n",
        "# Derived class: Guitar\n",
        "class Guitar(Instrument):\n",
        "    def play(self):\n",
        "        print(\"Strumming the guitar.\")\n",
        "\n",
        "# Derived class: Piano\n",
        "class Piano(Instrument):\n",
        "    def play(self):\n",
        "        print(\"Playing the piano.\")\n",
        "\n",
        "# Polymorphic function\n",
        "def start_playing(instrument):\n",
        "    instrument.play()\n",
        "\n",
        "# Example usage\n",
        "g = Guitar()\n",
        "p = Piano()\n",
        "\n",
        "start_playing(g)  # Output: Strumming the guitar.\n",
        "start_playing(p)  # Output: Playing the piano."
      ],
      "metadata": {
        "id": "pPuPC1TAccm-"
      },
      "execution_count": null,
      "outputs": []
    },
    {
      "cell_type": "markdown",
      "source": [
        "7.  Create a class MathOperations with a class method add_numbers() to add two numbers and a static\n",
        "method subtract_numbers() to subtract two numbers."
      ],
      "metadata": {
        "id": "AYSNBkPlcqYL"
      }
    },
    {
      "cell_type": "code",
      "source": [
        "class MathOperations:\n",
        "    @classmethod\n",
        "    def add_numbers(cls, a, b):\n",
        "        return a + b\n",
        "\n",
        "    @staticmethod\n",
        "    def subtract_numbers(a, b):\n",
        "        return a - b\n",
        "\n",
        "# Example usage\n",
        "sum_result = MathOperations.add_numbers(10, 5)\n",
        "print(f\"Sum: {sum_result}\")          # Output: Sum: 15\n",
        "\n",
        "diff_result = MathOperations.subtract_numbers(10, 5)\n",
        "print(f\"Difference: {diff_result}\")  # Output: Difference: 5"
      ],
      "metadata": {
        "id": "vUTWqCVIcwdn"
      },
      "execution_count": null,
      "outputs": []
    },
    {
      "cell_type": "markdown",
      "source": [
        "8.  Implement a class Person with a class method to count the total number of persons created"
      ],
      "metadata": {
        "id": "1WSKByPzcw1v"
      }
    },
    {
      "cell_type": "code",
      "source": [
        "class Person:\n",
        "    count = 0  # Class variable to track number of persons\n",
        "\n",
        "    def __init__(self, name):\n",
        "        self.name = name\n",
        "        Person.count += 1  # Increment count on each new instance\n",
        "\n",
        "    @classmethod\n",
        "    def total_persons(cls):\n",
        "        return cls.count\n",
        "\n",
        "# Example usage\n",
        "p1 = Person(\"Alice\")\n",
        "p2 = Person(\"Bob\")\n",
        "p3 = Person(\"Charlie\")\n",
        "\n",
        "print(f\"Total persons created: {Person.total_persons()}\")  # Output: Total persons created: 3"
      ],
      "metadata": {
        "id": "aDg6rhnyc0tn"
      },
      "execution_count": null,
      "outputs": []
    },
    {
      "cell_type": "markdown",
      "source": [
        "9.  Write a class Fraction with attributes numerator and denominator. Override the str method to display the\n",
        "fraction as \"numerator/denominator\"."
      ],
      "metadata": {
        "id": "Qt7xU3KWc1F3"
      }
    },
    {
      "cell_type": "code",
      "source": [
        "class Fraction:\n",
        "    def __init__(self, numerator, denominator):\n",
        "        self.numerator = numerator\n",
        "        self.denominator = denominator\n",
        "\n",
        "    def __str__(self):\n",
        "        return f\"{self.numerator}/{self.denominator}\"\n",
        "\n",
        "# Example usage\n",
        "f1 = Fraction(3, 4)\n",
        "print(f1)  # Output: 3/4\n",
        "\n",
        "f2 = Fraction(5, 8)\n",
        "print(f2)  # Output: 5/8"
      ],
      "metadata": {
        "id": "cZCqDH6Zc5Uz"
      },
      "execution_count": null,
      "outputs": []
    },
    {
      "cell_type": "markdown",
      "source": [
        "10. Demonstrate operator overloading by creating a class Vector and overriding the add method to add two\n",
        "vectors."
      ],
      "metadata": {
        "id": "OgiFqa5rc9rc"
      }
    },
    {
      "cell_type": "code",
      "source": [
        "class Vector:\n",
        "    def __init__(self, x, y):\n",
        "        self.x = x\n",
        "        self.y = y\n",
        "\n",
        "    # Overload the + operator\n",
        "    def __add__(self, other):\n",
        "        return Vector(self.x + other.x, self.y + other.y)\n",
        "\n",
        "    def __str__(self):\n",
        "        return f\"Vector({self.x}, {self.y})\"\n",
        "\n",
        "# Example usage\n",
        "v1 = Vector(2, 3)\n",
        "v2 = Vector(4, 5)\n",
        "v3 = v1 + v2  # Uses __add__\n",
        "\n",
        "print(v3)  # Output: Vector(6, 8)"
      ],
      "metadata": {
        "id": "OPQI26r7dSG1"
      },
      "execution_count": null,
      "outputs": []
    },
    {
      "cell_type": "markdown",
      "source": [
        "11.  Create a class Person with attributes name and age. Add a method greet() that prints \"Hello, my name is\n",
        "{name} and I am {age} years old.\""
      ],
      "metadata": {
        "id": "TpT2KmPAeDsN"
      }
    },
    {
      "cell_type": "code",
      "source": [
        "class Person:\n",
        "    def __init__(self, name, age):\n",
        "        self.name = name\n",
        "        self.age = age\n",
        "\n",
        "    def greet(self):\n",
        "        print(f\"Hello, my name is {self.name} and I am {self.age} years old.\")\n",
        "\n",
        "# Example usage\n",
        "p = Person(\"Khushbu\", 25)\n",
        "p.greet()  # Output: Hello, my name is Khushbu and I am 25 years old."
      ],
      "metadata": {
        "id": "YZVxcyjQeMQT"
      },
      "execution_count": null,
      "outputs": []
    },
    {
      "cell_type": "markdown",
      "source": [
        "12.  Implement a class Student with attributes name and grades. Create a method average_grade() to compute\n",
        "the average of the grades."
      ],
      "metadata": {
        "id": "NrUsK_0veX8D"
      }
    },
    {
      "cell_type": "code",
      "source": [
        "class Student:\n",
        "    def __init__(self, name, grades):\n",
        "        self.name = name\n",
        "        self.grades = grades  # list of numbers\n",
        "\n",
        "    def average_grade(self):\n",
        "        if self.grades:\n",
        "            return sum(self.grades) / len(self.grades)\n",
        "        else:\n",
        "            return 0\n",
        "\n",
        "# Example usage\n",
        "s = Student(\"Khushbu\", [85, 90, 78, 92])\n",
        "print(f\"{s.name}'s average grade: {s.average_grade():.2f}\")\n",
        "# Output: Khushbu's average grade: 86.25"
      ],
      "metadata": {
        "id": "gkk5vNDEeeNR"
      },
      "execution_count": null,
      "outputs": []
    },
    {
      "cell_type": "markdown",
      "source": [
        "13. Create a class Rectangle with methods set_dimensions() to set the dimensions and area() to calculate the\n",
        "area."
      ],
      "metadata": {
        "id": "KJfe--GOeohw"
      }
    },
    {
      "cell_type": "code",
      "source": [
        "class Rectangle:\n",
        "    def __init__(self):\n",
        "        self.length = 0\n",
        "        self.width = 0\n",
        "\n",
        "    def set_dimensions(self, length, width):\n",
        "        self.length = length\n",
        "        self.width = width\n",
        "\n",
        "    def area(self):\n",
        "        return self.length * self.width\n",
        "\n",
        "# Example usage\n",
        "rect = Rectangle()\n",
        "rect.set_dimensions(5, 4)\n",
        "print(f\"Area of rectangle: {rect.area()}\")  # Output: Area of rectangle: 20"
      ],
      "metadata": {
        "id": "mdjrasC3kzDm"
      },
      "execution_count": null,
      "outputs": []
    },
    {
      "cell_type": "markdown",
      "source": [
        "14. Create a class Employee with a method calculate_salary() that computes the salary based on hours worked\n",
        "and hourly rate. Create a derived class Manager that adds a bonus to the salary."
      ],
      "metadata": {
        "id": "84ocZA_zmYri"
      }
    },
    {
      "cell_type": "code",
      "source": [
        "# Base class\n",
        "class Employee:\n",
        "    def __init__(self, name, hours_worked, hourly_rate):\n",
        "        self.name = name\n",
        "        self.hours_worked = hours_worked\n",
        "        self.hourly_rate = hourly_rate\n",
        "\n",
        "    def calculate_salary(self):\n",
        "        return self.hours_worked * self.hourly_rate\n",
        "\n",
        "# Derived class\n",
        "class Manager(Employee):\n",
        "    def __init__(self, name, hours_worked, hourly_rate, bonus):\n",
        "        super().__init__(name, hours_worked, hourly_rate)\n",
        "        self.bonus = bonus\n",
        "\n",
        "    def calculate_salary(self):\n",
        "        base_salary = super().calculate_salary()\n",
        "        return base_salary + self.bonus\n",
        "\n",
        "# Example usage\n",
        "emp = Employee(\"Alice\", 40, 25)\n",
        "print(f\"{emp.name}'s salary: ${emp.calculate_salary()}\")\n",
        "\n",
        "mgr = Manager(\"Bob\", 40, 30, 500)\n",
        "print(f\"{mgr.name}'s salary: ${mgr.calculate_salary()}\")\n",
        "\n",
        "Output:\n",
        "Alice's salary: $1000\n",
        "Bob's salary: $1700"
      ],
      "metadata": {
        "id": "7VVVKt-FmlNc"
      },
      "execution_count": null,
      "outputs": []
    },
    {
      "cell_type": "markdown",
      "source": [
        "15.  Create a class Product with attributes name, price, and quantity. Implement a method total_price() that\n",
        "calculates the total price of the product."
      ],
      "metadata": {
        "id": "nPXPy8RimsWW"
      }
    },
    {
      "cell_type": "code",
      "source": [
        "class Product:\n",
        "    def __init__(self, name, price, quantity):\n",
        "        self.name = name\n",
        "        self.price = price\n",
        "        self.quantity = quantity\n",
        "\n",
        "    def total_price(self):\n",
        "        return self.price * self.quantity\n",
        "\n",
        "# Example usage\n",
        "product1 = Product(\"Laptop\", 50000, 2)\n",
        "print(f\"Total price for {product1.name}: ₹{product1.total_price()}\")\n",
        "\n",
        "Output:\n",
        "Total price for Laptop: ₹100000"
      ],
      "metadata": {
        "id": "I6ezqoBSm20Y"
      },
      "execution_count": null,
      "outputs": []
    },
    {
      "cell_type": "markdown",
      "source": [
        "16. Create a class Animal with an abstract method sound(). Create two derived classes Cow and Sheep that\n",
        "implement the sound() method."
      ],
      "metadata": {
        "id": "0ATuCy-Fm81K"
      }
    },
    {
      "cell_type": "code",
      "source": [
        "from abc import ABC, abstractmethod\n",
        "\n",
        "# Abstract base class\n",
        "class Animal(ABC):\n",
        "    @abstractmethod\n",
        "    def sound(self):\n",
        "        pass\n",
        "\n",
        "# Derived class Cow\n",
        "class Cow(Animal):\n",
        "    def sound(self):\n",
        "        return \"Moo\"\n",
        "\n",
        "# Derived class Sheep\n",
        "class Sheep(Animal):\n",
        "    def sound(self):\n",
        "        return \"Baa\"\n",
        "\n",
        "# Example usage\n",
        "cow = Cow()\n",
        "print(f\"Cow says: {cow.sound()}\")\n",
        "\n",
        "sheep = Sheep()\n",
        "print(f\"Sheep says: {sheep.sound()}\")\n",
        "\n",
        "Output:\n",
        "Cow says: Moo\n",
        "Sheep says: Baa"
      ],
      "metadata": {
        "id": "73Tki3BFnBr1"
      },
      "execution_count": null,
      "outputs": []
    },
    {
      "cell_type": "markdown",
      "source": [
        "17. Create a class Book with attributes title, author, and year_published. Add a method get_book_info() that\n",
        "returns a formatted string with the book's details"
      ],
      "metadata": {
        "id": "ytuFg7XAnPEK"
      }
    },
    {
      "cell_type": "code",
      "source": [
        "class Book:\n",
        "    def __init__(self, title, author, year_published):\n",
        "        self.title = title\n",
        "        self.author = author\n",
        "        self.year_published = year_published\n",
        "\n",
        "    def get_book_info(self):\n",
        "        return f\"'{self.title}' by {self.author}, published in {self.year_published}.\"\n",
        "\n",
        "# Example usage\n",
        "book1 = Book(\"To Kill a Mockingbird\", \"Harper Lee\", 1960)\n",
        "print(book1.get_book_info())\n",
        "\n",
        "Output:\n",
        "'To Kill a Mockingbird' by Harper Lee, published in 1960."
      ],
      "metadata": {
        "id": "pPCZ-U6pnXzG"
      },
      "execution_count": null,
      "outputs": []
    },
    {
      "cell_type": "markdown",
      "source": [
        "18. Create a class House with attributes address and price. Create a derived class Mansion that adds an\n",
        "attribute number_of_rooms"
      ],
      "metadata": {
        "id": "sbm2Rk3Enjrz"
      }
    },
    {
      "cell_type": "code",
      "source": [
        "# Base class\n",
        "class House:\n",
        "    def __init__(self, address, price):\n",
        "        self.address = address\n",
        "        self.price = price\n",
        "\n",
        "    def get_details(self):\n",
        "        return f\"Address: {self.address}, Price: ₹{self.price}\"\n",
        "\n",
        "# Derived class\n",
        "class Mansion(House):\n",
        "    def __init__(self, address, price, number_of_rooms):\n",
        "        super().__init__(address, price)\n",
        "        self.number_of_rooms = number_of_rooms\n",
        "\n",
        "    def get_details(self):\n",
        "        return f\"{super().get_details()}, Rooms: {self.number_of_rooms}\"\n",
        "\n",
        "# Example usage\n",
        "house = House(\"123 Main St\", 7500000)\n",
        "print(house.get_details())\n",
        "\n",
        "mansion = Mansion(\"456 Luxury Lane\", 25000000, 12)\n",
        "print(mansion.get_details())\n",
        "\n",
        "Output:\n",
        "Address: 123 Main St, Price: ₹7500000\n",
        "Address: 456 Luxury Lane, Price: ₹25000000, Rooms: 12"
      ],
      "metadata": {
        "id": "rXtczUK1noaY"
      },
      "execution_count": null,
      "outputs": []
    }
  ]
}